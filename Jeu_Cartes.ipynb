{
 "cells": [
  {
   "cell_type": "code",
   "execution_count": 12,
   "id": "16dfc6d5-a638-47ed-8465-e893764a984d",
   "metadata": {},
   "outputs": [],
   "source": [
    "import numpy as np\n",
    "from scipy import random\n",
    "import matplotlib.pyplot as plt\n",
    "from scipy.stats import t\n",
    "import statistics\n",
    "import seaborn as sns "
   ]
  },
  {
   "cell_type": "code",
   "execution_count": 13,
   "id": "75836caf-5e54-4066-aba6-6d580b543f24",
   "metadata": {},
   "outputs": [],
   "source": [
    "class Jeucarte:\n",
    "    def __init__(self):\n",
    "        self.deck=26*['black']+26*['red']\n",
    "        random.shuffle(self.deck)\n",
    "    def draw(self):\n",
    "        return self.deck.pop()"
   ]
  },
  {
   "cell_type": "code",
   "execution_count": 14,
   "id": "76d94e68-82ce-4333-a1c7-1a7edc917225",
   "metadata": {},
   "outputs": [],
   "source": [
    "N=52#nombre de cartes\n",
    "K=26"
   ]
  },
  {
   "cell_type": "code",
   "execution_count": 15,
   "id": "3c05199e-efd5-4f1f-ada0-0a5d41bd143e",
   "metadata": {
    "scrolled": true,
    "tags": []
   },
   "outputs": [
    {
     "name": "stdout",
     "output_type": "stream",
     "text": [
      "['black', 'black', 'black', 'red', 'red', 'red', 'black', 'black', 'black', 'black', 'red', 'red', 'black', 'red', 'red', 'black', 'red', 'black', 'black', 'black', 'black', 'red', 'red', 'black', 'red', 'black', 'black', 'red', 'black', 'black', 'red', 'red', 'red', 'red', 'black', 'black', 'red', 'red', 'black', 'black', 'black', 'red', 'red', 'red', 'red', 'black', 'red', 'black', 'black', 'red', 'red', 'red']\n"
     ]
    }
   ],
   "source": [
    "Number_Red_cards_drawn=0\n",
    "Number_black_cards_drawn=0\n",
    "Total_Cards_drawn=0\n",
    "jeu=Jeucarte()\n",
    "List_prob_black=[]\n",
    "List_prob_red=[]\n",
    "list_Confiance_min=[]\n",
    "list_Confiance_max=[]\n",
    "list_diff=[]\n",
    "print(jeu.deck)\n",
    "while len(jeu.deck) != 0:\n",
    "    current_card_drawn=jeu.draw()\n",
    "    Total_Cards_drawn+=1\n",
    "    n=N-Total_Cards_drawn#Total cards remaining\n",
    "    if current_card_drawn=='black':\n",
    "        Number_black_cards_drawn+=1\n",
    "    else:\n",
    "        Number_Red_cards_drawn+=1\n",
    "    if (n==0) and current_card_drawn=='red':\n",
    "        Proba_red=1\n",
    "    elif (n==0) and current_card_drawn=='black':\n",
    "        Proba_black=1\n",
    "    else:\n",
    "        Proba_red=(K-Number_Red_cards_drawn)/n\n",
    "        Proba_black=(K-Number_black_cards_drawn)/n\n",
    "    List_prob_black.append(Proba_black)\n",
    "    List_prob_red.append(Proba_red)\n",
    "    list_diff.append(Proba_red-Proba_black)\n",
    "#     if n*Proba_red > 5 and n*(1-Proba_red)>5:\n",
    "#         min_intervalle_confiance=Proba_red-1.96*np.sqrt(Proba_red*(1-Proba_red)/n)\n",
    "#         max_intervalle_confiance=Proba_red+1.96*np.sqrt(Proba_red*(1-Proba_red)/n)\n",
    "#         list_Confiance_min.append(min_intervalle_confiance)\n",
    "#         list_Confiance_max.append(max_intervalle_confiance)\n",
    "    \n",
    "    \n",
    "\n"
   ]
  },
  {
   "cell_type": "code",
   "execution_count": 16,
   "id": "dee64ead-3a34-44c3-bb74-6d58a61aed0c",
   "metadata": {},
   "outputs": [
    {
     "data": {
      "image/png": "[encoded data removed]",
      "text/plain": [
       "<Figure size 432x288 with 1 Axes>"
      ]
     },
     "metadata": {
      "needs_background": "light"
     },
     "output_type": "display_data"
    }
   ],
   "source": [
    "x=range(52)\n",
    "font = {'family': 'serif',\n",
    "        'color':  'darkred',\n",
    "        'weight': 'normal',\n",
    "        'size': 12,\n",
    "        }\n",
    "plt.title(\"Probabilily of having a next card per color\", fontdict=font)\n",
    "#plt.rcParams[\"figure.figsize\"] = [27, 3.5]\n",
    "#plt.rcParams[\"figure.autolayout\"] = True\n",
    "plt.plot(x, List_prob_black,'+', color='red')\n",
    "plt.plot(x, List_prob_red,'+', color='black')\n",
    "plt.xlabel('nth card draw', fontdict=font)\n",
    "plt.ylabel(\"Probability\", fontdict=font)\n",
    "#plt.xticks(x)\n",
    "plt.show()"
   ]
  },
  {
   "cell_type": "code",
   "execution_count": 17,
   "id": "f24ef28d-d3c4-4c28-8df7-73ef5f570c64",
   "metadata": {},
   "outputs": [],
   "source": [
    "# print(len(list_Confiance_max))\n",
    "# print(len(list_Confiance_min))\n",
    "# y=range(len(list_Confiance_min))\n",
    "# font = {'family': 'serif',\n",
    "#         'color':  'darkred',\n",
    "#         'weight': 'normal',\n",
    "#         'size': 12,\n",
    "#         }\n",
    "# plt.title(\"confidence interval Variation\", fontdict=font)\n",
    "# #plt.rcParams[\"figure.figsize\"] = [27, 3.5]\n",
    "# #plt.rcParams[\"figure.autolayout\"] = True\n",
    "# plt.plot(y, list_Confiance_min,'-', color='red')\n",
    "# plt.plot(y, list_Confiance_max,'-', color='black')\n",
    "# plt.xlabel('nth card draw', fontdict=font)\n",
    "# plt.ylabel(\"Probability\", fontdict=font)\n",
    "# # plt.xticks(x)\n",
    "# plt.show()"
   ]
  },
  {
   "cell_type": "code",
   "execution_count": 18,
   "id": "1578e910-648e-49a4-83b9-705f1a087b83",
   "metadata": {},
   "outputs": [
    {
     "data": {
      "image/png": "[encoded data removed]",
      "text/plain": [
       "<Figure size 432x288 with 1 Axes>"
      ]
     },
     "metadata": {
      "needs_background": "light"
     },
     "output_type": "display_data"
    }
   ],
   "source": [
    "y=range(52)\n",
    "font = {'family': 'serif',\n",
    "        'color':  'darkred',\n",
    "        'weight': 'normal',\n",
    "        'size': 12,\n",
    "        }\n",
    "plt.title(\"Prob_red - Prob_black\", fontdict=font)\n",
    "#plt.rcParams[\"figure.figsize\"] = [27, 3.5]\n",
    "#plt.rcParams[\"figure.autolayout\"] = True\n",
    "plt.plot(y, list_diff,'+', color='brown')\n",
    "plt.xlabel('nth card draw', fontdict=font)\n",
    "plt.ylabel(\"Probability\", fontdict=font)\n",
    "#plt.xticks(x)\n",
    "plt.show()"
   ]
  },
  {
   "cell_type": "code",
   "execution_count": 19,
   "id": "d785bc5f-1fd7-484d-abf5-54d39312c807",
   "metadata": {},
   "outputs": [],
   "source": [
    "nb_simulations=1000\n",
    "nb_jeux_par_simulations=1000\n",
    "jeu_succes=0\n",
    "jeu_echec=0\n"
   ]
  },
  {
   "cell_type": "code",
   "execution_count": 20,
   "id": "260ffe50-625a-4361-9a56-e1c10a847139",
   "metadata": {},
   "outputs": [],
   "source": [
    "for j in range(nb_simulations):#Simutation en utilisant un seuil sur Prob_b et Prob_b - Prob_a\n",
    "    for i in range(nb_jeux_par_simulations):\n",
    "        Number_Red_cards_drawn=0\n",
    "        Number_black_cards_drawn=0\n",
    "        Total_Cards_drawn=0\n",
    "        \n",
    "        jeu=Jeucarte()\n",
    "        while len(jeu.deck) != 0:\n",
    "            current_card_drawn=jeu.draw()\n",
    "            Total_Cards_drawn+=1\n",
    "            n=N-Total_Cards_drawn#Total cards remaining\n",
    "            if current_card_drawn=='black':\n",
    "                Number_black_cards_drawn+=1\n",
    "            else:\n",
    "                Number_Red_cards_drawn+=1\n",
    "            if (n==0) and current_card_drawn=='red':\n",
    "                Proba_red=1\n",
    "                jeu_succes+=1\n",
    "                Stop_Card=current_card_drawn\n",
    "                break\n",
    "                \n",
    "                \n",
    "                \n",
    "            elif (n==0) and current_card_drawn=='black':\n",
    "                Proba_black=1\n",
    "                jeu_echec+=1\n",
    "                Stop_Card=current_card_drawn\n",
    "                break\n",
    "                \n",
    "                \n",
    "            else:\n",
    "                Proba_red=(K-Number_Red_cards_drawn)/n\n",
    "                Proba_black=(K-Number_black_cards_drawn)/n\n",
    "#             if n*Proba_red > 5 and n*(1-Proba_red)>5:\n",
    "#                 min_intervalle_confiance=Proba_red-1.96*np.sqrt(Proba_red*(1-Proba_red)/n)\n",
    "#                 max_intervalle_confiance=Proba_red+1.96*np.sqrt(Proba_red*(1-Proba_red)/n)\n",
    "            if (Proba_red>0.6)  :\n",
    "                Stop_Card=jeu.draw()\n",
    "                current_card_drawn=Stop_Card\n",
    "                if Stop_Card==\"red\":\n",
    "                    jeu_succes+=1\n",
    "                else:\n",
    "                    jeu_echec+=1\n",
    "                break\n",
    "                    \n",
    "        \n",
    "    "
   ]
  },
  {
   "cell_type": "code",
   "execution_count": 21,
   "id": "d131f410-b0d3-4911-bf32-eae42d7d77e8",
   "metadata": {},
   "outputs": [
    {
     "name": "stdout",
     "output_type": "stream",
     "text": [
      "0.499904\n"
     ]
    }
   ],
   "source": [
    "print(jeu_succes/(jeu_succes+jeu_echec))"
   ]
  },
  {
   "cell_type": "code",
   "execution_count": 22,
   "id": "449bf231-4147-4e2e-b4cc-5541f16b6283",
   "metadata": {},
   "outputs": [],
   "source": [
    "list_freq=[]\n",
    "list_freq_jeu=[]\n",
    "jeu_succes=0\n",
    "jeu_echec=0\n",
    "for j in range(nb_simulations):#Simutation en utilisant un seuil sur Prob_b \n",
    "    jeu_succes=0\n",
    "    jeu_echec=0\n",
    "    for i in range(nb_jeux_par_simulations):\n",
    "        Number_Red_cards_drawn=0\n",
    "        Number_black_cards_drawn=0\n",
    "        Total_Cards_drawn=0\n",
    "        \n",
    "        jeu=Jeucarte()\n",
    "        while len(jeu.deck) != 0:\n",
    "            current_card_drawn=jeu.draw()\n",
    "            Total_Cards_drawn+=1\n",
    "            n=N-Total_Cards_drawn#Total cards remaining\n",
    "            if current_card_drawn=='black':\n",
    "                Number_black_cards_drawn+=1\n",
    "            else:\n",
    "                Number_Red_cards_drawn+=1\n",
    "            if (n==0) and current_card_drawn=='red':\n",
    "                Proba_red=1\n",
    "                jeu_succes+=1\n",
    "                Stop_Card=current_card_drawn\n",
    "                break\n",
    "                \n",
    "                \n",
    "                \n",
    "            elif (n==0) and current_card_drawn=='black':\n",
    "                Proba_black=1\n",
    "                jeu_echec+=1\n",
    "                Stop_Card=current_card_drawn\n",
    "                break\n",
    "                \n",
    "                \n",
    "            else:\n",
    "                Proba_red=(K-Number_Red_cards_drawn)/n\n",
    "                Proba_black=(K-Number_black_cards_drawn)/n\n",
    "#             if n*Proba_red > 5 and n*(1-Proba_red)>5:\n",
    "#                 min_intervalle_confiance=Proba_red-2.58*np.sqrt(Proba_red*(1-Proba_red)/n)\n",
    "#                 max_intervalle_confiance=Proba_red+2.58*np.sqrt(Proba_red*(1-Proba_red)/n)\n",
    "            if (Proba_red>0.5)  :\n",
    "                Stop_Card=jeu.draw()\n",
    "                current_card_drawn=Stop_Card\n",
    "                if Stop_Card==\"red\":\n",
    "                    jeu_succes+=1\n",
    "                else:\n",
    "                    jeu_echec+=1\n",
    "                break\n",
    "                \n",
    "    list_freq.append(float(jeu_succes/(jeu_succes+jeu_echec)))"
   ]
  },
  {
   "cell_type": "code",
   "execution_count": 23,
   "id": "d6205e3e-5050-4ce5-b15c-0fa0e58c9da4",
   "metadata": {
    "scrolled": true,
    "tags": []
   },
   "outputs": [
    {
     "name": "stdout",
     "output_type": "stream",
     "text": [
      "0.499408\n",
      "1000\n"
     ]
    }
   ],
   "source": [
    "print(np.mean(list_freq))\n",
    "print(len(list_freq))"
   ]
  },
  {
   "cell_type": "code",
   "execution_count": 24,
   "id": "c73bec84-e063-4ff8-b593-e256a7d6b234",
   "metadata": {},
   "outputs": [
    {
     "data": {
      "image/png": "[encoded data removed]",
      "text/plain": [
       "<Figure size 432x288 with 1 Axes>"
      ]
     },
     "metadata": {
      "needs_background": "light"
     },
     "output_type": "display_data"
    }
   ],
   "source": [
    "plt.plot(list(range(len(list_freq))), list_freq)\n",
    "plt.axhline(0.5, color='k')\n",
    "plt.xlabel('Nombre de Simulations')\n",
    "plt.ylabel('Frequence de succes')\n",
    "plt.show()"
   ]
  },
  {
   "cell_type": "code",
   "execution_count": 25,
   "id": "253a4b1b-fd32-46b9-8029-ac02e73a7396",
   "metadata": {},
   "outputs": [
    {
     "name": "stdout",
     "output_type": "stream",
     "text": [
      "0.4683806789271186\n",
      "0.5304353210728815\n"
     ]
    }
   ],
   "source": [
    "#Confidence Interval\n",
    "m = np.mean(list_freq)\n",
    "s = np.var(list_freq)\n",
    "dof = len(list_freq)-1\n",
    "confidence = 0.95\n",
    "t_crit = np.abs(t.ppf((1-confidence)/2,dof))\n",
    "min_intervalle_confiance=m-t_crit*np.sqrt(m*(1-m)/len(list_freq))\n",
    "max_intervalle_confiance=m+t_crit*np.sqrt(m*(1-m)/len(list_freq))\n",
    "print(min_intervalle_confiance)\n",
    "print(max_intervalle_confiance)"
   ]
  },
  {
   "cell_type": "code",
   "execution_count": 26,
   "id": "e3d035e6-1ee1-4f48-a80d-41295a3528ba",
   "metadata": {},
   "outputs": [],
   "source": [
    "def compute_high_confidence_interval(likelihoods, bin_width,bin_edges):\n",
    "    peak_index = likelihoods.argmax()\n",
    "    area = likelihoods[peak_index] * bin_width\n",
    "    start_index, end_index = peak_index, peak_index + 1\n",
    "    print('arg max: '+ str(peak_index))\n",
    "    while area < 0.95:\n",
    "        if start_index > 0:\n",
    "            start_index -= 1\n",
    "        if end_index < likelihoods.size - 1:\n",
    "            end_index += 1\n",
    "        print(str(start_index) + ' ' + str(end_index + 1) + ' ' + str(area*100) +'%')\n",
    "        area = likelihoods[start_index: end_index + 1].sum() * bin_width\n",
    "    range_start, range_end = bin_edges[start_index], bin_edges[end_index]\n",
    "    range_string = f\"{range_start:.6f} - {range_end:.6f}\"\n",
    "    print((f\"The frequency range {range_string} represents a \"f\"{100 * area:.2f}% confidence interval\"))\n",
    "    return start_index, end_index\n",
    "\n"
   ]
  },
  {
   "cell_type": "code",
   "execution_count": 27,
   "id": "14cedc67-0ebf-47d0-b352-8c6691bc609f",
   "metadata": {},
   "outputs": [
    {
     "data": {
      "image/png": "[encoded data removed]",
      "text/plain": [
       "<Figure size 432x288 with 1 Axes>"
      ]
     },
     "metadata": {
      "needs_background": "light"
     },
     "output_type": "display_data"
    }
   ],
   "source": [
    "x = range(len(list_freq))\n",
    "\n",
    "patches=plt.hist(list_freq, bins='auto',edgecolor='black', density=True)\n",
    "plt.xlabel('Frequence de succes')\n",
    "plt.ylabel('nombres de Simulation')\n",
    "plt.show()\n"
   ]
  },
  {
   "cell_type": "code",
   "execution_count": 28,
   "id": "103133ff-a903-4308-95a4-5b83749291ea",
   "metadata": {},
   "outputs": [
    {
     "name": "stdout",
     "output_type": "stream",
     "text": [
      "arg max: 11\n",
      "10 14 10.100000000000136%\n",
      "9 15 38.50000000000014%\n",
      "8 16 54.400000000000134%\n",
      "7 17 72.00000000000014%\n",
      "6 18 83.2000000000002%\n",
      "5 19 88.60000000000021%\n",
      "4 20 92.90000000000022%\n",
      "The frequency range 0.466480 - 0.528280 represents a 96.40% confidence interval\n"
     ]
    },
    {
     "data": {
      "image/png": "[encoded data removed]",
      "text/plain": [
       "<Figure size 432x288 with 1 Axes>"
      ]
     },
     "metadata": {
      "needs_background": "light"
     },
     "output_type": "display_data"
    }
   ],
   "source": [
    "likelihoods, bin_edges, patches = plt.hist(list_freq, bins='auto',\n",
    "                                           edgecolor='black', density=True)\n",
    "bin_width = bin_edges[1] - bin_edges[0]\n",
    "start_index, end_index = compute_high_confidence_interval(likelihoods, bin_width,bin_edges)\n",
    " \n",
    "for i in range(start_index, end_index):\n",
    "     patches[i].set_facecolor('yellow')\n",
    "plt.xlabel('Binned Frequency')\n",
    "plt.ylabel('Relative Likelihood')\n",
    " \n",
    "plt.show()\n"
   ]
  },
  {
   "cell_type": "code",
   "execution_count": 29,
   "id": "afa02656-206e-4764-8dba-bea89729360e",
   "metadata": {
    "scrolled": true,
    "tags": []
   },
   "outputs": [],
   "source": [
    "jeu_succes=0\n",
    "jeu_echec=0\n",
    "for j in range(nb_simulations):#Simutation en laissant La derniére Carte = Stop_cart\n",
    "    for i in range(nb_jeux_par_simulations):\n",
    "        Number_Red_cards_drawn=0\n",
    "        Number_black_cards_drawn=0\n",
    "        Total_Cards_drawn=0\n",
    "        \n",
    "        jeu=Jeucarte()\n",
    "        while len(jeu.deck) != 0:\n",
    "            current_card_drawn=jeu.draw()\n",
    "            Total_Cards_drawn+=1\n",
    "            n=N-Total_Cards_drawn#Total cards remaining\n",
    "            if current_card_drawn=='black':\n",
    "                Number_black_cards_drawn+=1\n",
    "            else:\n",
    "                Number_Red_cards_drawn+=1\n",
    "            if (n==0) and current_card_drawn=='red':\n",
    "                Proba_red=1\n",
    "                jeu_succes+=1\n",
    "                Stop_Card=current_card_drawn\n",
    "                break\n",
    "                \n",
    "                \n",
    "                \n",
    "            elif (n==0) and current_card_drawn=='black':\n",
    "                Proba_black=1\n",
    "                jeu_echec+=1\n",
    "                Stop_Card=current_card_drawn\n",
    "                break\n",
    "                \n",
    "                \n",
    "            "
   ]
  },
  {
   "cell_type": "code",
   "execution_count": 30,
   "id": "2076aafc-29cb-491c-b438-a3bffe2cb7e2",
   "metadata": {},
   "outputs": [
    {
     "name": "stdout",
     "output_type": "stream",
     "text": [
      "0.49985\n",
      "499850\n"
     ]
    }
   ],
   "source": [
    "print(jeu_succes/(jeu_succes+jeu_echec))\n",
    "print(jeu_succes)"
   ]
  },
  {
   "cell_type": "code",
   "execution_count": 31,
   "id": "6312f1aa-3a20-43f6-b302-5c98e5abaf4f",
   "metadata": {},
   "outputs": [],
   "source": [
    "jeu_succes=0\n",
    "jeu_echec=0\n",
    "for j in range(nb_simulations):#Simutation en laissant La permiere Carte = Stop_cart\n",
    "    for i in range(nb_jeux_par_simulations):\n",
    "        Number_Red_cards_drawn=0\n",
    "        Number_black_cards_drawn=0\n",
    "        Total_Cards_drawn=0\n",
    "        \n",
    "        jeu=Jeucarte()\n",
    "        while len(jeu.deck) != 0:\n",
    "            current_card_drawn=jeu.draw()\n",
    "            Total_Cards_drawn+=1\n",
    "            n=N-Total_Cards_drawn#Total cards remaining\n",
    "            if current_card_drawn=='black':\n",
    "                Number_black_cards_drawn+=1\n",
    "            else:\n",
    "                Number_Red_cards_drawn+=1\n",
    "            if current_card_drawn=='red':\n",
    "                Proba_red=1\n",
    "                jeu_succes+=1\n",
    "                Stop_Card=current_card_drawn\n",
    "                break\n",
    "                \n",
    "                \n",
    "                \n",
    "            elif current_card_drawn=='black':\n",
    "                Proba_black=1\n",
    "                jeu_echec+=1\n",
    "                Stop_Card=current_card_drawn\n",
    "                break\n",
    "                \n",
    "                \n",
    "            else:\n",
    "                Proba_red=(K-Number_Red_cards_drawn)/n\n",
    "                Proba_black=(K-Number_black_cards_drawn)/n\n",
    "#             if n*Proba_red > 5 and n*(1-Proba_red)>5:\n",
    "#                 min_intervalle_confiance=Proba_red-2.58*np.sqrt(Proba_red*(1-Proba_red)/n)\n",
    "#                 max_intervalle_confiance=Proba_red+2.58*np.sqrt(Proba_red*(1-Proba_red)/n)\n",
    "#             if (Proba_red>0.6)  :\n",
    "#                 Stop_Card=jeu.draw()\n",
    "#                 current_card_drawn=Stop_Card\n",
    "                if Stop_Card==\"red\":\n",
    "                    jeu_succes+=1\n",
    "                else:\n",
    "                    jeu_echec+=1\n",
    "                break"
   ]
  },
  {
   "cell_type": "code",
   "execution_count": 32,
   "id": "b736316a-496b-4811-8348-06fc0243a1b3",
   "metadata": {},
   "outputs": [
    {
     "name": "stdout",
     "output_type": "stream",
     "text": [
      "0.500196\n"
     ]
    }
   ],
   "source": [
    "print(jeu_succes/(jeu_succes+jeu_echec))#"
   ]
  },
  {
   "cell_type": "code",
   "execution_count": null,
   "id": "10c710a8-78f2-4d3c-a5f2-fcfc19a22d42",
   "metadata": {},
   "outputs": [],
   "source": []
  },
  {
   "cell_type": "code",
   "execution_count": null,
   "id": "046c51f4-6572-48da-82a1-82a18c4372ba",
   "metadata": {},
   "outputs": [],
   "source": []
  }
 ],
 "metadata": {
  "kernelspec": {
   "display_name": "Python 3",
   "language": "python",
   "name": "python3"
  },
  "language_info": {
   "codemirror_mode": {
    "name": "ipython",
    "version": 3
   },
   "file_extension": ".py",
   "mimetype": "text/x-python",
   "name": "python",
   "nbconvert_exporter": "python",
   "pygments_lexer": "ipython3",
   "version": "3.8.8"
  }
 },
 "nbformat": 4,
 "nbformat_minor": 5
}
